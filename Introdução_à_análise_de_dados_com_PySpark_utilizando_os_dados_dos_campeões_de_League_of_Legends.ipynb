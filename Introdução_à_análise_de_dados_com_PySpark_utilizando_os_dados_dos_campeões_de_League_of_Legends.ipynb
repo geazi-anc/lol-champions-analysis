{
  "cells": [
    {
      "cell_type": "markdown",
      "metadata": {},
      "source": [
        "# Introdução à análise de dados com PySpark utilizando os dados dos campeões de League of Legends\n",
        "\n",
        "O [League of Legends](https://www.leagueoflegends.com/pt-br/), também conhecido como lolzinho, para os íntimos, é um jogo ambientado no mundo fantasioso de Runeterra, com batalhas sangrentas e muita magia. Em League of Legends, os jogadores controlam personagens conhecidos como campeões, cada um com suas habilidades e diferentes estilos de jogo.\n",
        "\n",
        "Neste artigo, iremos analisar algumas estatísticas desses campeões fazendo o uso do [PySpark](https://spark.apache.org/docs/latest/api/python/index.html), uma API do framework Apache Spark desenvolvida para a linguagem de programação Python 🐍. Os dados serão extraídos da web API [Data Dragon](https://developer.riotgames.com/docs/lol#data-dragon), uma API pública da Riot Games.\n",
        "\n",
        "Para isso, vamos desenvolver um notebook no [Google Colab](https://colab.research.google.com/), um serviço de nuvem gratuito criado pelo Google para incentivar pesquisas na área de machine learning e inteligência artificial.\n",
        "\n",
        "Caso não saiba como usar o Google Colab, confira [este excelente artigo](https://www.alura.com.br/artigos/google-colab-o-que-e-e-como-usar) da Alura escrito pelo Thiago Santos que ensina, de forma muito didática, como usar o Colab e criar seus primeiros códigos!\n",
        "\n",
        "O notebook deste artigo também está disponível em meu [GitHub}(https://github.com/geazi-anc/lol-champions-analysis) 😉.\n",
        "\n",
        "Peguem suas espadas, preparem suas magias, e vamos começar ⚔🧙🏼‍♀️!\n"
      ]
    },
    {
      "cell_type": "markdown",
      "metadata": {},
      "source": [
        "## Instalação\n",
        "\n",
        "Antes de começarmos, é necessário fazer a instalação de duas bibliotecas: [PySpark](https://spark.apache.org/docs/latest/api/python/index.html) e [Requests](https://requests.readthedocs.io/en/latest/).\n",
        "\n",
        "A biblioteca PySpark, como foi dito, é a API oficial do Python para o Apache Spark. É com ela que vamos realizar nossa análise de dados 🎲.\n",
        "\n",
        "Já a biblioteca Requests é uma biblioteca que nos permite fazer solicitações HTTP a um determinado website. Mediante a ela que iremos extrair os dados dos campeões através da API pública da Riot Games 🚀.\n"
      ]
    },
    {
      "cell_type": "code",
      "execution_count": 1,
      "metadata": {
        "colab": {
          "base_uri": "https://localhost:8080/"
        },
        "id": "DNuRx-sTnl-I",
        "outputId": "f3831d40-de08-4f17-c3fc-fac4ef27da1e"
      },
      "outputs": [
        {
          "name": "stdout",
          "output_type": "stream",
          "text": [
            "Looking in indexes: https://pypi.org/simple, https://us-python.pkg.dev/colab-wheels/public/simple/\n",
            "Collecting pyspark\n",
            "  Downloading pyspark-3.3.0.tar.gz (281.3 MB)\n",
            "\u001b[K     |████████████████████████████████| 281.3 MB 41 kB/s \n",
            "\u001b[?25hCollecting py4j==0.10.9.5\n",
            "  Downloading py4j-0.10.9.5-py2.py3-none-any.whl (199 kB)\n",
            "\u001b[K     |████████████████████████████████| 199 kB 49.8 MB/s \n",
            "\u001b[?25hBuilding wheels for collected packages: pyspark\n",
            "  Building wheel for pyspark (setup.py) ... \u001b[?25l\u001b[?25hdone\n",
            "  Created wheel for pyspark: filename=pyspark-3.3.0-py2.py3-none-any.whl size=281764026 sha256=68dedb91cdf197a431f84443fbe947d51bdc95c3e7ee06f60b90ffde5c095781\n",
            "  Stored in directory: /root/.cache/pip/wheels/7a/8e/1b/f73a52650d2e5f337708d9f6a1750d451a7349a867f928b885\n",
            "Successfully built pyspark\n",
            "Installing collected packages: py4j, pyspark\n",
            "Successfully installed py4j-0.10.9.5 pyspark-3.3.0\n",
            "Looking in indexes: https://pypi.org/simple, https://us-python.pkg.dev/colab-wheels/public/simple/\n",
            "Requirement already satisfied: requests in /usr/local/lib/python3.7/dist-packages (2.23.0)\n",
            "Requirement already satisfied: idna<3,>=2.5 in /usr/local/lib/python3.7/dist-packages (from requests) (2.10)\n",
            "Requirement already satisfied: chardet<4,>=3.0.2 in /usr/local/lib/python3.7/dist-packages (from requests) (3.0.4)\n",
            "Requirement already satisfied: certifi>=2017.4.17 in /usr/local/lib/python3.7/dist-packages (from requests) (2022.6.15)\n",
            "Requirement already satisfied: urllib3!=1.25.0,!=1.25.1,<1.26,>=1.21.1 in /usr/local/lib/python3.7/dist-packages (from requests) (1.24.3)\n"
          ]
        }
      ],
      "source": [
        "!pip install pyspark\n",
        "!pip install requests\n"
      ]
    },
    {
      "cell_type": "markdown",
      "metadata": {},
      "source": [
        "## Inicialização\n",
        "\n",
        "Logo após a instalação das bibliotecas, precisamos inicializar o Apache Spark. Para isso, importamos a classe **SparkSession** dentro do módulo **sql** da biblioteca **pyspark**.\n",
        "\n",
        "Depois da importação, instanciamos a classe SparkSession através de uma série de métodos encadeados, como **appName** e **getOrCreate**.\n"
      ]
    },
    {
      "cell_type": "code",
      "execution_count": 2,
      "metadata": {
        "id": "4XdOmjCtnzs4"
      },
      "outputs": [],
      "source": [
        "from pyspark.sql import SparkSession\n",
        "\n",
        "spark = (SparkSession.builder\n",
        "         .appName(\"Introdução à análise de dados com PySpark utilizando os dados dos campeões de League of Legends\")\n",
        "         .getOrCreate()\n",
        "         )\n"
      ]
    },
    {
      "cell_type": "markdown",
      "metadata": {},
      "source": [
        "## Extração de dados dos campeões\n",
        "\n",
        "A extração dos dados dos campeões de League of Legends é feita através de uma solicitação HTTP à um endpoint da API [Data Dragon](https://developer.riotgames.com/docs/lol#data-dragon), uma API pública da Riot Games que centraliza os dados do jogo, como campeões, itens, magias e ETC.\n",
        "\n",
        "A resposta é um objeto JSON semelhante a este:\n",
        "\n",
        "```\n",
        "{\n",
        "    \"type\": \"champion\",\n",
        "    \"format\": \"standAloneComplex\",\n",
        "    \"version\": \"12.17.1\",\n",
        "    \"data\": {\n",
        "        \"Aatrox\": {},\n",
        "        \"Ahri\": {...},\n",
        "        \"Akali\": {...},\n",
        "        \"Akshan\": {...},\n",
        "        \"Alistar\": {...},\n",
        "        ...,\n",
        "    }\n",
        "}\n",
        "```\n",
        "\n",
        "Observe que os dados que queremos está dentro da chave **data**. Vamos pegar esses dados, descartando os demais, e exibir apenas o nome de todos os campeões.\n"
      ]
    },
    {
      "cell_type": "code",
      "execution_count": 8,
      "metadata": {
        "colab": {
          "base_uri": "https://localhost:8080/"
        },
        "id": "GRr5xwpmoXS8",
        "outputId": "6e279e89-1737-48ef-ddec-c87a36c207e7"
      },
      "outputs": [
        {
          "data": {
            "text/plain": [
              "dict_keys(['Aatrox', 'Ahri', 'Akali', 'Akshan', 'Alistar', 'Amumu', 'Anivia', 'Annie', 'Aphelios', 'Ashe', 'AurelionSol', 'Azir', 'Bard', 'Belveth', 'Blitzcrank', 'Brand', 'Braum', 'Caitlyn', 'Camille', 'Cassiopeia', 'Chogath', 'Corki', 'Darius', 'Diana', 'Draven', 'DrMundo', 'Ekko', 'Elise', 'Evelynn', 'Ezreal', 'Fiddlesticks', 'Fiora', 'Fizz', 'Galio', 'Gangplank', 'Garen', 'Gnar', 'Gragas', 'Graves', 'Gwen', 'Hecarim', 'Heimerdinger', 'Illaoi', 'Irelia', 'Ivern', 'Janna', 'JarvanIV', 'Jax', 'Jayce', 'Jhin', 'Jinx', 'Kaisa', 'Kalista', 'Karma', 'Karthus', 'Kassadin', 'Katarina', 'Kayle', 'Kayn', 'Kennen', 'Khazix', 'Kindred', 'Kled', 'KogMaw', 'Leblanc', 'LeeSin', 'Leona', 'Lillia', 'Lissandra', 'Lucian', 'Lulu', 'Lux', 'Malphite', 'Malzahar', 'Maokai', 'MasterYi', 'MissFortune', 'MonkeyKing', 'Mordekaiser', 'Morgana', 'Nami', 'Nasus', 'Nautilus', 'Neeko', 'Nidalee', 'Nilah', 'Nocturne', 'Nunu', 'Olaf', 'Orianna', 'Ornn', 'Pantheon', 'Poppy', 'Pyke', 'Qiyana', 'Quinn', 'Rakan', 'Rammus', 'RekSai', 'Rell', 'Renata', 'Renekton', 'Rengar', 'Riven', 'Rumble', 'Ryze', 'Samira', 'Sejuani', 'Senna', 'Seraphine', 'Sett', 'Shaco', 'Shen', 'Shyvana', 'Singed', 'Sion', 'Sivir', 'Skarner', 'Sona', 'Soraka', 'Swain', 'Sylas', 'Syndra', 'TahmKench', 'Taliyah', 'Talon', 'Taric', 'Teemo', 'Thresh', 'Tristana', 'Trundle', 'Tryndamere', 'TwistedFate', 'Twitch', 'Udyr', 'Urgot', 'Varus', 'Vayne', 'Veigar', 'Velkoz', 'Vex', 'Vi', 'Viego', 'Viktor', 'Vladimir', 'Volibear', 'Warwick', 'Xayah', 'Xerath', 'XinZhao', 'Yasuo', 'Yone', 'Yorick', 'Yuumi', 'Zac', 'Zed', 'Zeri', 'Ziggs', 'Zilean', 'Zoe', 'Zyra'])"
            ]
          },
          "execution_count": 8,
          "metadata": {},
          "output_type": "execute_result"
        }
      ],
      "source": [
        "import requests\n",
        "\n",
        "response=requests.get(\n",
        "\"https://ddragon.leagueoflegends.com/cdn/12.17.1/data/pt_BR/champion.json\")\n",
        "\n",
        "champions=response.json().get(\"data\")\n",
        "champions.keys()\n"
      ]
    },
    {
      "cell_type": "code",
      "execution_count": 5,
      "metadata": {
        "colab": {
          "base_uri": "https://localhost:8080/"
        },
        "id": "1A-mHTQmpIpl",
        "outputId": "4c5983fd-72a6-47c4-83ee-d1a759a56d84"
      },
      "outputs": [
        {
          "data": {
            "text/plain": [
              "{'version': '12.17.1',\n",
              " 'id': 'Akali',\n",
              " 'key': '84',\n",
              " 'name': 'Akali',\n",
              " 'title': 'a Assassina Renegada',\n",
              " 'blurb': 'Abandonando a Ordem Kinkou e seu título de Punho das Sombras, Akali agora ataca sozinha, pronta para ser a arma mortal que seu povo precisa. Embora ela mantenha tudo o que aprendeu com seu mestre Shen, ela se comprometeu a defender Ionia de seus...',\n",
              " 'info': {'attack': 5, 'defense': 3, 'magic': 8, 'difficulty': 7},\n",
              " 'image': {'full': 'Akali.png',\n",
              "  'sprite': 'champion0.png',\n",
              "  'group': 'champion',\n",
              "  'x': 96,\n",
              "  'y': 0,\n",
              "  'w': 48,\n",
              "  'h': 48},\n",
              " 'tags': ['Assassin'],\n",
              " 'partype': 'Energia',\n",
              " 'stats': {'hp': 570,\n",
              "  'hpperlevel': 119,\n",
              "  'mp': 200,\n",
              "  'mpperlevel': 0,\n",
              "  'movespeed': 345,\n",
              "  'armor': 23,\n",
              "  'armorperlevel': 4.7,\n",
              "  'spellblock': 37,\n",
              "  'spellblockperlevel': 2.05,\n",
              "  'attackrange': 125,\n",
              "  'hpregen': 9,\n",
              "  'hpregenperlevel': 0.9,\n",
              "  'mpregen': 50,\n",
              "  'mpregenperlevel': 0,\n",
              "  'crit': 0,\n",
              "  'critperlevel': 0,\n",
              "  'attackdamage': 62,\n",
              "  'attackdamageperlevel': 3.3,\n",
              "  'attackspeedperlevel': 3.2,\n",
              "  'attackspeed': 0.625}}"
            ]
          },
          "execution_count": 5,
          "metadata": {},
          "output_type": "execute_result"
        }
      ],
      "source": [
        "champions.get(\"Akali\")\n"
      ]
    },
    {
      "cell_type": "markdown",
      "metadata": {},
      "source": [
        "## Limpesa dos dados\n",
        "\n",
        "Antes de começarmos de fato com a análise, é necessário fazermos uma limpesa prévia nos dados. Vamos pegar apenas os que nos interessa, e remover os dicionários dentro de dicionários, deixando um único dicionário para cada campeão com os dados necessários.\n"
      ]
    },
    {
      "cell_type": "code",
      "execution_count": 9,
      "metadata": {
        "colab": {
          "base_uri": "https://localhost:8080/"
        },
        "id": "akr4CU4grUW0",
        "outputId": "6bb415d8-f27f-4cfa-8088-2a8f9d340601"
      },
      "outputs": [
        {
          "data": {
            "text/plain": [
              "{'name': 'Akali',\n",
              " 'title': 'a Assassina Renegada',\n",
              " 'attack': 5,\n",
              " 'defense': 3,\n",
              " 'magic': 8,\n",
              " 'difficulty': 7,\n",
              " 'hp': 570,\n",
              " 'hpperlevel': 119,\n",
              " 'mp': 200,\n",
              " 'mpperlevel': 0,\n",
              " 'movespeed': 345,\n",
              " 'armor': 23,\n",
              " 'armorperlevel': 4.7,\n",
              " 'spellblock': 37,\n",
              " 'spellblockperlevel': 2.05,\n",
              " 'attackrange': 125,\n",
              " 'hpregen': 9,\n",
              " 'hpregenperlevel': 0.9,\n",
              " 'mpregen': 50,\n",
              " 'mpregenperlevel': 0,\n",
              " 'crit': 0,\n",
              " 'critperlevel': 0,\n",
              " 'attackdamage': 62,\n",
              " 'attackdamageperlevel': 3.3,\n",
              " 'attackspeedperlevel': 3.2,\n",
              " 'attackspeed': 0.625}"
            ]
          },
          "execution_count": 9,
          "metadata": {},
          "output_type": "execute_result"
        }
      ],
      "source": [
        "champions=[{'name': value['name'], 'title': value['title'], **value['info'], **value['stats']} for key, value in champions.items()]\n",
        "champions[2]\n"
      ]
    },
    {
      "cell_type": "markdown",
      "metadata": {},
      "source": [
        "## Criando o DataFrame\n",
        "\n",
        "Agora sim! Os dados dos campeões estão limpos, então já podemos criar nosso DataFrame com o Spark.\n",
        "\n",
        "Infelizmente, o Spark é um tanto... seletivo com o tipo de objeto que passamos a ele para criar um DataFrame. Logo, nosso objeto atual champions, que é composto de uma lista de dicionários, não é aceito pelo Spark.\n",
        "\n",
        "Mas existe uma solução👏🏼. A biblioteca Pandas é muito mais flexível no que se refere a criação de um novo DataFrame. Portanto, é possível criar um DataFrame do Pandas com nosso objeto champions atual, e em seguida criar um DataFrame do Spark com base no DataFrame criado pelo Pandas.\n"
      ]
    },
    {
      "cell_type": "code",
      "execution_count": 12,
      "metadata": {
        "colab": {
          "base_uri": "https://localhost:8080/"
        },
        "id": "KK_tj4uyuKGp",
        "outputId": "c1a6d03e-b846-41bb-f6e3-a961246db693"
      },
      "outputs": [
        {
          "name": "stdout",
          "output_type": "stream",
          "text": [
            "+-------+-----------------------+\n",
            "|name   |title                  |\n",
            "+-------+-----------------------+\n",
            "|Aatrox |a Espada Darkin        |\n",
            "|Ahri   |a Raposa de Nove Caudas|\n",
            "|Akali  |a Assassina Renegada   |\n",
            "|Akshan |o Sentinela Rebelde    |\n",
            "|Alistar|o Minotauro            |\n",
            "+-------+-----------------------+\n",
            "only showing top 5 rows\n",
            "\n"
          ]
        }
      ],
      "source": [
        "import pandas as pd\n",
        "\n",
        "df = spark.createDataFrame(pd.DataFrame(champions))\n",
        "\n",
        "df.select(\"name\", \"title\").show(5, False)\n"
      ]
    },
    {
      "cell_type": "markdown",
      "metadata": {},
      "source": [
        "## Concatenação de colunas\n",
        "\n",
        "Não sei vocês, mas acho um tanto incômodo ficar selecionando o nome e os títulos dos campeões cada vez que formos visualisar seus dados. Então, vamos concatenar as colunas **name** e **title** em uma nova coluna, chamada **full_name**.\n",
        "\n",
        "Para isso, vamos primeiramente utilizar o método **withColumn**. Em resumo, esse método nos permite criar uma nova coluna em nosso DataFrame.\n",
        "\n",
        "O primeiro parâmetro do método é o nome da nossa coluna. Já o segundo parâmetro são os dados que queremos popular nossa nova coluna. Nesse caso, a concatenação da coluna **name** com a coluna **title**.\n",
        "\n",
        "Para concatenar as colunas de strings, vamos utilizar a função **concat**.\n",
        "Esta função recebe como parâmetros o nome das colunas que queremos concatenar. Contudo, não podemos passar apenas o nome dessas colunas. Caso contrário o nome e os títulos ficariam colados um ao outro. Então também usamos a função **lit**, que cria uma nova coluna literal com o valor que passamos a ela, isto é: \", \".\n"
      ]
    },
    {
      "cell_type": "code",
      "execution_count": 14,
      "metadata": {
        "colab": {
          "base_uri": "https://localhost:8080/"
        },
        "id": "Zh-E9yjlxVVC",
        "outputId": "23f46c5e-3c02-49ec-8fb0-b43ad410dff9"
      },
      "outputs": [
        {
          "name": "stdout",
          "output_type": "stream",
          "text": [
            "+-----------------------------+\n",
            "|full_name                    |\n",
            "+-----------------------------+\n",
            "|Aatrox, a Espada Darkin      |\n",
            "|Ahri, a Raposa de Nove Caudas|\n",
            "|Akali, a Assassina Renegada  |\n",
            "|Akshan, o Sentinela Rebelde  |\n",
            "|Alistar, o Minotauro         |\n",
            "+-----------------------------+\n",
            "only showing top 5 rows\n",
            "\n"
          ]
        }
      ],
      "source": [
        "from pyspark.sql import functions as F\n",
        "\n",
        "df = df.withColumn(\"full_name\", F.concat(df.name, F.lit(\", \"), df.title))\n",
        "df.select(\"full_name\").show(5, False)\n"
      ]
    },
    {
      "cell_type": "markdown",
      "metadata": {},
      "source": [
        "## Quem são os campeões mais poderosos de League of Legends?\n",
        "\n",
        "Curioso para saber quem são os campeões mais poderosos de League of Legends? Pois é, eu também estou. Vamos descobrir 👀!\n",
        "\n",
        "Para esta análise, considere que o que determina o nível de poder de um campeão são seus valores de ataque, armadura, vida e mana.\n",
        "\n",
        "Então, para vermos quem são os campeões mais poderosos, basta ordenarmos nosso DataFframe com base nessas colunas, de modo decrescente.\n",
        "\n",
        "> Uma pequena observação: atualmente todos os campeões estão no nível um.\n"
      ]
    },
    {
      "cell_type": "code",
      "execution_count": 20,
      "metadata": {
        "colab": {
          "base_uri": "https://localhost:8080/"
        },
        "id": "f8K6jq8xzs-p",
        "outputId": "11ee5b4d-46f9-4f0b-b1e5-d8f1b71005e7"
      },
      "outputs": [
        {
          "name": "stdout",
          "output_type": "stream",
          "text": [
            "+---------------------------------+------------+-----+-----+-----+\n",
            "|full_name                        |attackdamage|armor|hp   |mp   |\n",
            "+---------------------------------+------------+-----+-----+-----+\n",
            "|Tryndamere, o Rei Bárbaro        |72.0        |33   |696.0|100.0|\n",
            "|Cho'Gath, o Terror do Vazio      |69.0        |38   |644.0|270.0|\n",
            "|Renekton, o Carniceiro das Areias|69.0        |35   |660.0|100.0|\n",
            "|Ornn, O Fogo sob a Montanha      |69.0        |33   |660.0|340.6|\n",
            "|Kayn, o Ceifador das Sombras     |68.0        |38   |655.0|410.0|\n",
            "+---------------------------------+------------+-----+-----+-----+\n",
            "only showing top 5 rows\n",
            "\n"
          ]
        }
      ],
      "source": [
        "base_columns = [\"attackdamage\", \"armor\", \"hp\", \"mp\"]\n",
        "\n",
        "(df.orderBy(*base_columns, ascending=False)\n",
        " .select(\"full_name\", *base_columns)\n",
        " .show(5, False)\n",
        " )\n"
      ]
    },
    {
      "cell_type": "markdown",
      "metadata": {},
      "source": [
        "## Level up!\n",
        "\n",
        "Como dito, atualmente nossos campeões estão no nível 1. Vamos alterar o nível deles para o nível 10.\n",
        "\n",
        "Observe que as estatísticas dos campeões devem acompanhar seus crescimentos conforme o passar dos níveis. Nesta análise, vamos alterar apenas os valores de dano, armadura, vida e mana.\n",
        "\n",
        "Para alterarmos esses valores, vamos fazer o uso do método **withColumns**.\n",
        "Este método recebe um objeto do tipo dicionário, onde as chaves são os nomes das colunas, e seus valores são as colunas com os dados alterados.\n"
      ]
    },
    {
      "cell_type": "code",
      "execution_count": 22,
      "metadata": {
        "id": "2dAdgebO36dx"
      },
      "outputs": [],
      "source": [
        "level = 10\n",
        "\n",
        "df2 = df.withColumns({\n",
        "    \"attackdamage\": df.attackdamage+df.attackdamageperlevel*level,\n",
        "    \"armor\": df.armor+df.armorperlevel*level,\n",
        "    \"hp\": df.hp+df.hpperlevel*level,\n",
        "    \"mp\": df.mp+df.mpperlevel*level\n",
        "})\n"
      ]
    },
    {
      "cell_type": "markdown",
      "metadata": {},
      "source": [
        "## Quem são os campeões mais poderosos de League of Legends (de novo)?\n",
        "\n",
        "Com todos os campeões já no nível 10, vamos ver se o rank de poder da análise anterior se manteve ou se houve mudança.\n",
        "Lembrando que ainda estamos analisando o nível de poder apenas com base nas colunas dano, armadura, vida e mana.\n"
      ]
    },
    {
      "cell_type": "code",
      "execution_count": 24,
      "metadata": {
        "colab": {
          "base_uri": "https://localhost:8080/"
        },
        "id": "esbA7fDU4DzH",
        "outputId": "4134ac7c-d46c-4712-eea3-6abce2c21d2c"
      },
      "outputs": [
        {
          "name": "stdout",
          "output_type": "stream",
          "text": [
            "+-----------------------------+------------+-----+------+-----+\n",
            "|full_name                    |attackdamage|armor|hp    |mp   |\n",
            "+-----------------------------+------------+-----+------+-----+\n",
            "|Illaoi, a Sacerdotisa Cráquem|118.0       |85.0 |1746.0|800.0|\n",
            "|Olaf, o Berserker            |115.0       |77.0 |1835.0|816.0|\n",
            "|Darius, a Mão de Noxus       |114.0       |91.0 |1792.0|838.0|\n",
            "|Yorick, o Pastor de Almas    |112.0       |91.0 |1790.0|900.0|\n",
            "|Cho'Gath, o Terror do Vazio  |111.0       |85.0 |1584.0|870.0|\n",
            "+-----------------------------+------------+-----+------+-----+\n",
            "only showing top 5 rows\n",
            "\n"
          ]
        }
      ],
      "source": [
        "(df2.orderBy(*base_columns, ascending=False)\n",
        " .select(\"full_name\", *base_columns)\n",
        " .show(5, False)\n",
        " )\n"
      ]
    },
    {
      "cell_type": "markdown",
      "metadata": {},
      "source": [
        "## Estatísticas dos níveis de poderes\n",
        "\n",
        "Para finalizar, vamos ver algumas estatísticas simples de todos os nossos campeões no nível 10.\n",
        "\n",
        "Vamos determinar a média do dano, o máximo do hp e da mana, e o mínimo da armadura.\n",
        "\n",
        "Utilizaremos o método **agg**. Este método recebe como parâmetro um dicionário, onde as chaves são o nome das colunas que queremos analisar e os valores são as funções que queremos aplicar sobre elas.\n"
      ]
    },
    {
      "cell_type": "code",
      "execution_count": 25,
      "metadata": {
        "colab": {
          "base_uri": "https://localhost:8080/"
        },
        "id": "0_F06uqeEJ7E",
        "outputId": "fa47949d-9ea1-48fa-c6d8-e9f53216a3ef"
      },
      "outputs": [
        {
          "name": "stdout",
          "output_type": "stream",
          "text": [
            "+-------+----------+-----------------+-------+\n",
            "|max(mp)|min(armor)|avg(attackdamage)|max(hp)|\n",
            "+-------+----------+-----------------+-------+\n",
            "|10000.0|      28.0|91.40481987577641| 1892.0|\n",
            "+-------+----------+-----------------+-------+\n",
            "\n"
          ]
        }
      ],
      "source": [
        "(df2.agg({\n",
        "    \"attackdamage\": \"mean\",\n",
        "    \"hp\": \"max\",\n",
        "    \"mp\": \"max\",\n",
        "    \"armor\": \"min\"\n",
        "})\n",
        "    .show()\n",
        ")\n"
      ]
    },
    {
      "cell_type": "markdown",
      "metadata": {},
      "source": [
        "## Considerações finais\n",
        "\n",
        "É isso, meus amigos. Finalizamos nossa análise por aqui 🎆.\n",
        "\n",
        "Neste artigo demonstrei como aplicar uma análise bem simples sobre os dados dos campeões de League of Legends. Fizemos a extração dos dados por meio da API públilca da Riot Games; fizemos uma limpesa prévia nos dados; criamos uma nova coluna com o resultado da concatenação dos nomes dos campeões e seus títulos; ranqueamos os campeões mais poderosos com base em seus níveis de poder; e, por fim, fizemos uma análise das estatísticas dos campeões tanto no nível 1 quanto no nível 10.\n",
        "\n",
        "Espero que tenham gostado. Até a próxima 💚!\n"
      ]
    }
  ],
  "metadata": {
    "colab": {
      "provenance": []
    },
    "kernelspec": {
      "display_name": "Python 3",
      "name": "python3"
    },
    "language_info": {
      "name": "python"
    }
  },
  "nbformat": 4,
  "nbformat_minor": 0
}
